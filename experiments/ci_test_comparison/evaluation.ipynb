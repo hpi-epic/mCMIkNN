{
 "cells": [
  {
   "cell_type": "markdown",
   "id": "a90cd9d0",
   "metadata": {},
   "source": [
    "### Evaluation of the ci test comparison"
   ]
  },
  {
   "cell_type": "code",
   "execution_count": null,
   "id": "e1c781cb",
   "metadata": {},
   "outputs": [],
   "source": [
    "### imports\n",
    "import pandas as pd\n",
    "import os\n",
    "import seaborn as sns\n",
    "import warnings\n",
    "import math\n",
    "import numpy as np\n",
    "import matplotlib.pyplot as plt\n",
    "from sklearn import metrics"
   ]
  },
  {
   "cell_type": "code",
   "execution_count": null,
   "id": "3eb0e9e9",
   "metadata": {},
   "outputs": [],
   "source": [
    "### parameters\n",
    "alpha = 0.05\n",
    "files = [f for f in os.listdir('./') if '.csv' in f]\n",
    "\n",
    "def calc_auc(y,pred):\n",
    "    fpr, tpr, thresholds = metrics.roc_curve(y, pred)\n",
    "    return metrics.auc(fpr, tpr)\n",
    "\n",
    "def calc_typeIrate(y,pred):\n",
    "    tn, fp, fn, tp = metrics.confusion_matrix(y, pred, labels=[0, 1]).ravel()\n",
    "    return (fp / (fp + tn))\n",
    "\n",
    "def calc_typeIIrate(y,pred):\n",
    "    tn, fp, fn, tp = metrics.confusion_matrix(y, pred, labels=[0, 1]).ravel()\n",
    "    return (fn / (tp + fn))"
   ]
  },
  {
   "cell_type": "code",
   "execution_count": null,
   "id": "997bb07a",
   "metadata": {},
   "outputs": [],
   "source": [
    "### preparation\n",
    "dfs = []\n",
    "for file in files:\n",
    "    dfs.append(pd.read_csv('./'+file))\n",
    "\n",
    "df = pd.concat(dfs,ignore_index=True)\n",
    "\n",
    "### optional penalize all entries where a method has a -1.0 in pvalue, i.e., it failed computing, setting\n",
    "### pvalue as it did not match the appropriate decision e.g., see below\n",
    "# CI test decisions, i.e., \n",
    "# reject H_0 for pvalue <= alpha, i.e., we assume H_1 is true -> edge (1) \n",
    "# cannot reject for pvalue > alpha i.e., we assume H_0 is true -> no edge (0)\n",
    "df['pvalue'] = np.where(((df[\"pvalue\"] == -1.0) & (df['hasedge'] == False)), 0.0, df['pvalue'])\n",
    "df['pvalue'] = np.where(((df[\"pvalue\"] == -1.0) & (df['hasedge'] == True)), 1.0, df['pvalue'])\n",
    "\n",
    "\n",
    "### transform data\n",
    "df.loc[df[\"hasedge\"] == False, \"H_0\"] = 0    #H_0 true is 0 (independent, no edge)\n",
    "df.loc[df[\"hasedge\"] == True, \"H_0\"] = 1    #H_0 false is 1 (dependent, edge)\n",
    "# CI test decisions, i.e., \n",
    "# reject H_0 for pvalue <= alpha, i.e., we assume H_1 is true -> edge (1) \n",
    "# cannot reject for pvalue > alpha i.e., we assume H_0 is true -> no edge (0)\n",
    "df[\"CItest\"] = df[\"pvalue\"].le(alpha).astype(int)\n",
    "\n",
    "## rename\n",
    "df.loc[df[\"method\"] == \"discretized-x2\", \"method\"] = \"$disc\\chi^2$\"\n",
    "df.loc[df[\"method\"] == \"KCIT\", \"method\"] = \"$KCIT$\"\n",
    "df.loc[df[\"method\"] == \"MICD\", \"method\"] = \"$CG$\"\n",
    "df.loc[df[\"method\"] == \"cmipchisq95\", \"method\"] = \"$aHist\\chi^2$\"\n",
    "df.loc[df[\"method\"] == \"mCMIkNN\", \"method\"] = \"$mCMIkNN$\"\n",
    "# select\n",
    "df = df[df.sepsetsize.isin([1,3,5,7])]\n",
    "hue_order = [\"$mCMIkNN$\",\"$CG$\",\"$KCIT$\",\"$disc\\chi^2$\",\"$aHist\\chi^2$\"]"
   ]
  },
  {
   "cell_type": "markdown",
   "id": "7766d99f",
   "metadata": {},
   "source": [
    "### Figure 2 in paper"
   ]
  },
  {
   "cell_type": "code",
   "execution_count": null,
   "id": "0c3a957d",
   "metadata": {},
   "outputs": [],
   "source": [
    "plt.rcParams.update({'font.size': 12})\n",
    "subset = df[[\"cgmid\",\"samples\", \"sepsetsize\", \"method\", \"discretenoderatio\", \"pvalue\", \"H_0\", \"CItest\"]]\n",
    "fig, axs = plt.subplots(ncols=3, sharey=True, figsize=(16, 3.6))\n",
    "\n",
    "\n",
    "grouped = subset.groupby([\"cgmid\",\"samples\",\"method\"]).apply(lambda x: calc_auc(x[[\"H_0\"]], x[[\"CItest\"]])).reset_index(name='AUC')\n",
    "f1 = sns.boxplot(x=\"samples\", y=\"AUC\", hue=\"method\", palette=\"colorblind\", data=grouped,hue_order=hue_order, ax=axs[0])\n",
    "f1.set_ylabel(\"ROC AUC score\")\n",
    "f1.set_xlabel(\"sample sizes $n$\")\n",
    "f1.spines[\"top\"].set_visible(False)\n",
    "f1.spines[\"right\"].set_visible(False)\n",
    "f1.legend([],[], frameon=False)\n",
    "\n",
    "\n",
    "grouped = subset.groupby([\"cgmid\",\"sepsetsize\",\"method\"]).apply(lambda x: calc_auc(x[[\"H_0\"]], x[[\"CItest\"]])).reset_index(name='AUC')\n",
    "f2 = sns.boxplot(x=\"sepsetsize\", y=\"AUC\", hue=\"method\", palette=\"colorblind\", data=grouped,hue_order=hue_order, ax=axs[1])\n",
    "f2.set_ylabel(\"\")\n",
    "f2.set_xlabel(\"$d_Z$\")\n",
    "f2.spines[\"top\"].set_visible(False)\n",
    "f2.spines[\"right\"].set_visible(False)\n",
    "f2.legend(loc='upper center', bbox_to_anchor=(0.5, 1.25),frameon=False, ncol=6)\n",
    "\n",
    "\n",
    "grouped = subset.groupby([\"cgmid\",\"discretenoderatio\",\"method\"]).apply(lambda x: calc_auc(x[[\"H_0\"]], x[[\"CItest\"]])).reset_index(name='AUC')\n",
    "f3 = sns.boxplot(x=\"discretenoderatio\", y=\"AUC\", hue=\"method\", palette=\"colorblind\", data=grouped,hue_order=hue_order, ax=axs[2])\n",
    "f3.set_ylabel(\"\")\n",
    "f3.set_xlabel(\"ratio of discrete variables\")\n",
    "f3.legend([],[], frameon=False)\n",
    "f3.spines[\"top\"].set_visible(False)\n",
    "f3.spines[\"right\"].set_visible(False)\n",
    "\n",
    "\n",
    "fig.savefig('./case2ROC.pdf',bbox_inches=\"tight\")\n",
    "\n"
   ]
  },
  {
   "cell_type": "markdown",
   "id": "91bc007d",
   "metadata": {},
   "source": [
    "### Figure A.2 in appendix"
   ]
  },
  {
   "cell_type": "code",
   "execution_count": null,
   "id": "0077f000",
   "metadata": {},
   "outputs": [],
   "source": [
    "plt.rcParams.update({'font.size': 12})\n",
    "subset = df[[\"cgmid\",\"samples\", \"sepsetsize\", \"method\", \"discretenoderatio\", \"pvalue\", \"H_0\", \"CItest\"]]\n",
    "fig, axs = plt.subplots(ncols=3, sharey=True, figsize=(16, 3.6))\n",
    "\n",
    "\n",
    "grouped = subset.groupby([\"cgmid\",\"samples\",\"method\"]).apply(lambda x: calc_typeIrate(x[[\"H_0\"]], x[[\"CItest\"]])).reset_index(name='AUC')\n",
    "f1 = sns.boxplot(x=\"samples\", y=\"AUC\", hue=\"method\", palette=\"colorblind\", data=grouped,hue_order=hue_order, ax=axs[0])\n",
    "f1.set_ylabel(\"type I error rate\")\n",
    "f1.set_xlabel(\"sample sizes $n$\")\n",
    "f1.spines[\"top\"].set_visible(False)\n",
    "f1.spines[\"right\"].set_visible(False)\n",
    "f1.legend([],[], frameon=False)\n",
    "\n",
    "\n",
    "grouped = subset.groupby([\"cgmid\",\"sepsetsize\",\"method\"]).apply(lambda x: calc_typeIrate(x[[\"H_0\"]], x[[\"CItest\"]])).reset_index(name='AUC')\n",
    "f2 = sns.boxplot(x=\"sepsetsize\", y=\"AUC\", hue=\"method\", palette=\"colorblind\", data=grouped,hue_order=hue_order, ax=axs[1])\n",
    "f2.set_ylabel(\"\")\n",
    "f2.set_xlabel(\"$d_Z$\")\n",
    "f2.spines[\"top\"].set_visible(False)\n",
    "f2.spines[\"right\"].set_visible(False)\n",
    "f2.legend(loc='upper center', bbox_to_anchor=(0.5, 1.25),frameon=False, ncol=6)\n",
    "\n",
    "\n",
    "grouped = subset.groupby([\"cgmid\",\"discretenoderatio\",\"method\"]).apply(lambda x: calc_typeIrate(x[[\"H_0\"]], x[[\"CItest\"]])).reset_index(name='AUC')\n",
    "f3 = sns.boxplot(x=\"discretenoderatio\", y=\"AUC\", hue=\"method\", palette=\"colorblind\",hue_order=hue_order, data=grouped, ax=axs[2])\n",
    "f3.set_ylabel(\"\")\n",
    "f3.set_xlabel(\"ratio of discrete variables\")\n",
    "f3.legend([],[], frameon=False)\n",
    "f3.spines[\"top\"].set_visible(False)\n",
    "f3.spines[\"right\"].set_visible(False)\n",
    "\n",
    "\n",
    "fig.savefig('./case2typeI.pdf',bbox_inches=\"tight\")\n",
    "\n"
   ]
  },
  {
   "cell_type": "markdown",
   "id": "2e0b2e97",
   "metadata": {},
   "source": [
    "### Figure A.3 in appendix"
   ]
  },
  {
   "cell_type": "code",
   "execution_count": null,
   "id": "bc80e02d",
   "metadata": {},
   "outputs": [],
   "source": [
    "plt.rcParams.update({'font.size': 12})\n",
    "subset = df[[\"cgmid\",\"samples\", \"sepsetsize\", \"method\", \"discretenoderatio\", \"pvalue\", \"H_0\", \"CItest\"]]\n",
    "fig, axs = plt.subplots(ncols=3, sharey=True, figsize=(16, 3.6))\n",
    "\n",
    "\n",
    "grouped = subset.groupby([\"cgmid\",\"samples\",\"method\"]).apply(lambda x: calc_typeIIrate(x[[\"H_0\"]], x[[\"CItest\"]])).reset_index(name='AUC')\n",
    "f1 = sns.boxplot(x=\"samples\", y=\"AUC\", hue=\"method\", palette=\"colorblind\", data=grouped,hue_order=hue_order, ax=axs[0])\n",
    "f1.set_ylabel(\"type II error rate\")\n",
    "f1.set_xlabel(\"sample sizes $n$\")\n",
    "f1.spines[\"top\"].set_visible(False)\n",
    "f1.spines[\"right\"].set_visible(False)\n",
    "f1.legend([],[], frameon=False)\n",
    "\n",
    "\n",
    "grouped = subset.groupby([\"cgmid\",\"sepsetsize\",\"method\"]).apply(lambda x: calc_typeIIrate(x[[\"H_0\"]], x[[\"CItest\"]])).reset_index(name='AUC')\n",
    "f2 = sns.boxplot(x=\"sepsetsize\", y=\"AUC\", hue=\"method\", palette=\"colorblind\", data=grouped,hue_order=hue_order, ax=axs[1])\n",
    "f2.set_ylabel(\"\")\n",
    "f2.set_xlabel(\"$d_Z$\")\n",
    "f2.spines[\"top\"].set_visible(False)\n",
    "f2.spines[\"right\"].set_visible(False)\n",
    "f2.legend(loc='upper center', bbox_to_anchor=(0.5, 1.25),frameon=False, ncol=6)\n",
    "\n",
    "\n",
    "grouped = subset.groupby([\"cgmid\",\"discretenoderatio\",\"method\"]).apply(lambda x: calc_typeIIrate(x[[\"H_0\"]], x[[\"CItest\"]])).reset_index(name='AUC')\n",
    "f3 = sns.boxplot(x=\"discretenoderatio\", y=\"AUC\", hue=\"method\", palette=\"colorblind\", data=grouped,hue_order=hue_order, ax=axs[2])\n",
    "f3.set_ylabel(\"\")\n",
    "f3.set_xlabel(\"ratio of discrete variables\")\n",
    "f3.legend([],[], frameon=False)\n",
    "f3.spines[\"top\"].set_visible(False)\n",
    "f3.spines[\"right\"].set_visible(False)\n",
    "\n",
    "\n",
    "fig.savefig('./case2TypeII.pdf',bbox_inches=\"tight\")\n"
   ]
  }
 ],
 "metadata": {
  "kernelspec": {
   "display_name": "Python 3 (ipykernel)",
   "language": "python",
   "name": "python3"
  },
  "language_info": {
   "codemirror_mode": {
    "name": "ipython",
    "version": 3
   },
   "file_extension": ".py",
   "mimetype": "text/x-python",
   "name": "python",
   "nbconvert_exporter": "python",
   "pygments_lexer": "ipython3",
   "version": "3.9.16"
  }
 },
 "nbformat": 4,
 "nbformat_minor": 5
}
