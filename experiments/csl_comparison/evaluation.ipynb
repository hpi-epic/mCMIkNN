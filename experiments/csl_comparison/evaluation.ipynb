{
 "cells": [
  {
   "cell_type": "markdown",
   "id": "86c9b0f5",
   "metadata": {},
   "source": [
    "### Evaluation of the comparison of the application of the ci tests within csl"
   ]
  },
  {
   "cell_type": "code",
   "execution_count": null,
   "id": "ed561cdf",
   "metadata": {},
   "outputs": [],
   "source": [
    "### imports\n",
    "import csv\n",
    "import os\n",
    "import pandas as pd\n",
    "import matplotlib.pyplot as plt\n",
    "import numpy as np\n",
    "import seaborn as sns\n",
    "import networkx as nx\n",
    "import igraph as ig"
   ]
  },
  {
   "cell_type": "code",
   "execution_count": null,
   "id": "11c977fa",
   "metadata": {},
   "outputs": [],
   "source": [
    "### parameters\n",
    "methodLocDict = {'$KCIT$':'./results_KCIT/',\n",
    "                '$mCMIkNN$':'./results_mCMIkNN/',\n",
    "                '$disc\\chi^2$':'./results_discretized/',\n",
    "                '$CG$':'./results_MICD/'\n",
    "                }\n",
    "\n",
    "groundTruthLoc = '../data_generation/csl_graph/'"
   ]
  },
  {
   "cell_type": "code",
   "execution_count": null,
   "id": "51bbe625",
   "metadata": {},
   "outputs": [],
   "source": [
    "### compute metrics and store results\n",
    "entry = []\n",
    "for graphFile in os.listdir(groundTruthLoc):\n",
    "    splitted = graphFile.split('_')\n",
    "    cgmid = splitted[0]\n",
    "    nvars = splitted[1]\n",
    "    ed = splitted[2].replace('c','.')\n",
    "    dnr = splitted[3][:-4].replace('c','.')\n",
    "    gt_graph = nx.read_gml(groundTruthLoc+graphFile, destringizer=int)\n",
    "    gt_graph_skel = gt_graph.to_undirected().to_directed()\n",
    "    gt_edges = gt_graph_skel.edges()\n",
    "    gt_non_edges = set(nx.non_edges(gt_graph_skel))\n",
    "    for n in [50,100,250,500,1000]:\n",
    "        for method in methodLocDict.keys():\n",
    "            try:\n",
    "                learned_graph = nx.read_gml(methodLocDict[method]+ graphFile[:-4]+'_'+str(n)+'.gml', destringizer=int) if method == '$mCMIkNN$' else ig.Graph.Read_GML(methodLocDict[method]+ graphFile[:-4]+'_'+str(n)+'.gml').to_networkx()\n",
    "                learned_graph_skel = learned_graph.to_undirected().to_directed()\n",
    "                learned_edges = learned_graph_skel.edges()\n",
    "                learned_non_edges = set(nx.non_edges(learned_graph_skel))\n",
    "                \n",
    "                true_positives = list(gt_edges & learned_edges)\n",
    "                tp = len(true_positives) // 2\n",
    "\n",
    "                true_negatives = list(gt_non_edges & learned_non_edges)\n",
    "                tn = len(true_negatives) // 2\n",
    "\n",
    "                false_positives = list(gt_non_edges & learned_edges)\n",
    "                fp = len(false_positives) // 2\n",
    "\n",
    "                false_negatives = list(gt_edges & learned_non_edges)\n",
    "                fn = len(false_negatives) // 2\n",
    "                \n",
    "                fpr = fp /(fp + tn)\n",
    "                tpr = tp /(tp + fn)\n",
    "                precision = tp /(fp + tp)\n",
    "                f1 = 2 * tp /(fp + fn + 2 * tp)\n",
    "                entry.append([method, cgmid, nvars, ed, dnr, n, tp, tn, fp, fn, fpr, tpr, precision, f1])\n",
    "            except:\n",
    "                print(\"Error in\", n, method, graphFile)\n",
    "\n",
    "columns = ['method','cgmid','nvars','edgeDensity','discreteNodeRatio','samples','truePositives','trueNegatives','falsePositives','falseNegatives','fpr','tpr','Precision','F1']\n",
    "\n",
    "df = pd.DataFrame(entry, columns = columns)\n",
    "\n",
    "df.to_csv('./results.csv')\n"
   ]
  },
  {
   "cell_type": "markdown",
   "id": "3c75116e",
   "metadata": {},
   "source": [
    "### generate plots"
   ]
  },
  {
   "cell_type": "code",
   "execution_count": null,
   "id": "2e6501e2",
   "metadata": {},
   "outputs": [],
   "source": [
    "### read from csv \n",
    "df = pd.read_csv('./results.csv')"
   ]
  },
  {
   "cell_type": "markdown",
   "id": "3b635d4d",
   "metadata": {},
   "source": [
    "### Plot for Figure D.6 in Appendix"
   ]
  },
  {
   "cell_type": "code",
   "execution_count": null,
   "id": "ce31f122",
   "metadata": {},
   "outputs": [],
   "source": [
    "plt.rcParams.update({'font.size': 12})\n",
    "unique = df[\"method\"].unique()\n",
    "palette = 'colorblind' \n",
    "hue_order = [\"$mCMIkNN$\",\"$CG$\",\"$KCIT$\",\"$disc\\chi^2$\"]\n",
    "\n",
    "\n",
    "fig, axs = plt.subplots(ncols=4, sharey=True, figsize=(16, 3.0))\n",
    "df['samples'] = df['samples'].apply(lambda x: int(x))\n",
    "df['nvars'] = df['nvars'].apply(lambda x: int(x))\n",
    "df['discreteNodeRatio'] = df['discreteNodeRatio'].apply(lambda x: float(x))\n",
    "df['edgeDensity'] = df['edgeDensity'].apply(lambda x: float(x))\n",
    "\n",
    "\n",
    "#Variante 1 N over samples (3)\n",
    "# F1 - Boxplot \n",
    "\n",
    "subset = df[[\"samples\", \"method\", \"F1\", \"nvars\"]]\n",
    "\n",
    "subset['number of variables $N$'] = subset[\"nvars\"]\n",
    "\n",
    "g = sns.FacetGrid(subset, height=4, aspect=1, col= 'number of variables $N$')\n",
    "g.map_dataframe(sns.boxplot, x=\"samples\", y=\"F1\", hue=\"method\", palette=palette, hue_order=hue_order)\n",
    "g.add_legend()\n",
    "for i in range(0,3):\n",
    "    g.axes[0,i].set_xlabel('sample sizes $n$')\n",
    "for i in range(0,1):\n",
    "    g.axes[i,0].set_ylabel('F1 score')\n",
    "g.savefig('./case_3_f1_nodes_over_samples.pdf')"
   ]
  },
  {
   "cell_type": "code",
   "execution_count": null,
   "id": "fe256859",
   "metadata": {},
   "outputs": [],
   "source": [
    "### limit the remaining figures to nvar == 30\n",
    "df=df[df.nvars == 30]"
   ]
  },
  {
   "cell_type": "markdown",
   "id": "d08a4780",
   "metadata": {},
   "source": [
    "### Plot for Figure 3 in paper"
   ]
  },
  {
   "cell_type": "code",
   "execution_count": null,
   "id": "a3b5b9c1",
   "metadata": {},
   "outputs": [],
   "source": [
    "f1 = sns.boxplot(x=\"samples\", y=\"F1\", hue=\"method\", palette=palette, hue_order=hue_order, data=df, ax=axs[0])\n",
    "f1.set_ylabel(\"F1 score\")\n",
    "f1.set_xlabel(\"sample sizes $n$\")\n",
    "f1.spines[\"top\"].set_visible(False)\n",
    "f1.spines[\"right\"].set_visible(False)\n",
    "f1.legend([],[], frameon=False)\n",
    "\n",
    "\n",
    "f2 = sns.boxplot(x=\"discreteNodeRatio\", y=\"F1\", hue=\"method\", palette=palette, hue_order=hue_order, data=df, ax=axs[1])\n",
    "f2.set_ylabel(\"\")\n",
    "f2.set_xlabel('ratio of discrete variables')\n",
    "f2.spines[\"top\"].set_visible(False)\n",
    "f2.spines[\"right\"].set_visible(False)\n",
    "f2.legend([],[], frameon=False)\n",
    "\n",
    "\n",
    "f3 = sns.boxplot(x=\"edgeDensity\", y=\"F1\", hue=\"method\", palette=palette, hue_order=hue_order, data=df, ax=axs[2])\n",
    "f3.set_ylabel(\"\")\n",
    "f3.set_xlabel('density of the CGM')\n",
    "f3.spines[\"top\"].set_visible(False)\n",
    "f3.spines[\"right\"].set_visible(False)\n",
    "f3.legend(loc='upper center', bbox_to_anchor=(-0.1, 1.15),frameon=False, ncol=4)\n",
    "\n",
    "\n",
    "fig.savefig('./case_3_combined.pdf',bbox_inches=\"tight\")\n"
   ]
  },
  {
   "cell_type": "markdown",
   "id": "e76b2118",
   "metadata": {},
   "source": [
    "### Plot for Figure D4 in Appendix"
   ]
  },
  {
   "cell_type": "code",
   "execution_count": null,
   "id": "0bb4dbc2",
   "metadata": {},
   "outputs": [],
   "source": [
    "df['samples'] = df['samples'].apply(lambda x: int(x))\n",
    "subset = df[[\"samples\", \"method\", \"F1\", \"edgeDensity\"]]\n",
    "subset['density of the CGM'] = subset[\"edgeDensity\"]\n",
    "\n",
    "g = sns.FacetGrid(subset, height=4, aspect=1, col='density of the CGM')\n",
    "g.map_dataframe(sns.boxplot, x=\"samples\", y=\"F1\", hue=\"method\", palette=palette, hue_order=hue_order)\n",
    "g.add_legend()\n",
    "for i in range(0,4):\n",
    "    g.axes[0,i].set_xlabel('sample sizes $n$')\n",
    "for i in range(0,1):\n",
    "    g.axes[i,0].set_ylabel('F1 score')\n",
    "g.savefig('./case_3_f1_density_over_samples.pdf')"
   ]
  },
  {
   "cell_type": "markdown",
   "id": "a3a0072f",
   "metadata": {},
   "source": [
    "### Plot for Figure D4 in Appendix"
   ]
  },
  {
   "cell_type": "code",
   "execution_count": null,
   "id": "47024ae4",
   "metadata": {},
   "outputs": [],
   "source": [
    "df['samples'] = df['samples'].apply(lambda x: int(x))\n",
    "subset = df[[\"samples\", \"method\", \"F1\", \"discreteNodeRatio\"]]\n",
    "\n",
    "subset['ratio of discrete variables'] = subset[\"discreteNodeRatio\"]\n",
    "\n",
    "g = sns.FacetGrid(subset, height=4, aspect=1, col= 'ratio of discrete variables')\n",
    "g.map_dataframe(sns.boxplot, x=\"samples\", y=\"F1\", hue=\"method\", palette=palette, hue_order=hue_order)\n",
    "g.add_legend()\n",
    "for i in range(0,3):\n",
    "    g.axes[0,i].set_xlabel('sample sizes $n$')\n",
    "for i in range(0,1):\n",
    "    g.axes[i,0].set_ylabel('F1 score')\n",
    "g.savefig('./case_3_f1_dnr_over_samples.pdf')"
   ]
  }
 ],
 "metadata": {
  "kernelspec": {
   "display_name": "Python 3 (ipykernel)",
   "language": "python",
   "name": "python3"
  },
  "language_info": {
   "codemirror_mode": {
    "name": "ipython",
    "version": 3
   },
   "file_extension": ".py",
   "mimetype": "text/x-python",
   "name": "python",
   "nbconvert_exporter": "python",
   "pygments_lexer": "ipython3",
   "version": "3.9.16"
  }
 },
 "nbformat": 4,
 "nbformat_minor": 5
}
