{
 "cells": [
  {
   "cell_type": "markdown",
   "id": "808e9882",
   "metadata": {},
   "source": [
    "### Data generation notebook for data and graphs used for experiments concerning the CSL"
   ]
  },
  {
   "cell_type": "code",
   "execution_count": null,
   "id": "fa25c261",
   "metadata": {},
   "outputs": [],
   "source": [
    "### imports\n",
    "### imports\n",
    "import itertools\n",
    "import os\n",
    "import networkx as nx\n",
    "from manm_cs.graph import GraphBuilder\n",
    "from manm_cs.utils import write_single_csv\n"
   ]
  },
  {
   "cell_type": "code",
   "execution_count": null,
   "id": "51ab2a74",
   "metadata": {},
   "outputs": [],
   "source": [
    "### parameters\n",
    "# number of cgms\n",
    "cgmIdRange = (0,10)\n",
    "# number of samples per cgm\n",
    "### let the number of samples be drawn in a separate step [50,100,250,500,1000]\n",
    "nSamples = 10000\n",
    "# number of vars per cgm\n",
    "nVars = [30,40,50]\n",
    "# range of discrete values\n",
    "discreteValueRanges = [(2,4)]\n",
    "# discrete signal to noise ratio (0-1)\n",
    "discreteSignalToNoiseRatio = 0.85\n",
    "# edge densities\n",
    "eDensities = [0.05, 0.1, 0.15, 0.2]\n",
    "# discreteNodeRatio\n",
    "dnrs = [0.0, 0.25, 0.5, 0.75, 1.0]\n",
    "# betaLowerLimit\n",
    "betaLower = 1.0\n",
    "# betaUpperLimit\n",
    "betaUpper = 1.0\n",
    "# continuous noise \n",
    "contNoise = 1.0\n",
    "# conditional gaussion\n",
    "cg = False\n",
    "# scale_parents\n",
    "scale_parents = True\n",
    "\n",
    "\n",
    "# functions\n",
    "# use \"quadratic, linear, cos --> equal distribution\"\n",
    "def linear(value):\n",
    "    return value\n",
    "\n",
    "def quadratic(value):\n",
    "    import math\n",
    "    return math.pow(value,2)\n",
    "\n",
    "def cos(value):\n",
    "    import math\n",
    "    return math.cos(value)\n",
    "\n",
    "# set the functions\n",
    "functions = [(0.34,linear), (0.33,quadratic), (0.33,cos)]\n",
    "\n",
    "\n",
    "try:\n",
    "    os.mkdir('./csl_data')\n",
    "except:\n",
    "    pass\n",
    "try:\n",
    "    os.mkdir('./csl_graph')\n",
    "except:\n",
    "    pass"
   ]
  },
  {
   "cell_type": "code",
   "execution_count": null,
   "id": "54e284b2",
   "metadata": {},
   "outputs": [],
   "source": [
    "### generation\n",
    "for cgmId in range(cgmIdRange[0],cgmIdRange[1]):\n",
    "    \n",
    "    iterParams = [nVars, dnrs, eDensities]\n",
    "    for nvar, dnr, ed in itertools.product(*iterParams):\n",
    "        graph = GraphBuilder() \\\n",
    "                .with_num_nodes(nvar) \\\n",
    "                .with_edge_density(ed) \\\n",
    "                .with_discrete_node_ratio(dnr) \\\n",
    "                .with_discrete_signal_to_noise_ratio(discreteSignalToNoiseRatio) \\\n",
    "                .with_min_discrete_value_classes(discreteValueRanges[0][0]) \\\n",
    "                .with_max_discrete_value_classes(discreteValueRanges[0][1]) \\\n",
    "                .with_continuous_noise_std(contNoise) \\\n",
    "                .with_functions(functions) \\\n",
    "                .with_conditional_gaussian(cg) \\\n",
    "                .with_betas(betaLower, betaUpper) \\\n",
    "                .with_scaled_parent_influence(scale_parents) \\\n",
    "                .build()\n",
    "        dfs = graph.sample(num_observations=nSamples, num_processes=1)\n",
    "        output_file_name = '_'.join([str(cgmId),str(nvar),str(ed),str(dnr)])\n",
    "        output_file_name = output_file_name.replace('.','c')\n",
    "        print(output_file_name)\n",
    "        write_single_csv(dataframes=dfs, target_path=f\"./csl_data/{output_file_name}.csv\")\n",
    "        nx_graph = graph.to_networkx_graph()\n",
    "        nx.write_gml(nx_graph, f\"./csl_graph/{output_file_name}.gml\")\n",
    "    \n",
    "    "
   ]
  },
  {
   "cell_type": "markdown",
   "id": "bea8aaa4",
   "metadata": {},
   "source": [
    "### Transformation"
   ]
  },
  {
   "cell_type": "code",
   "execution_count": null,
   "id": "badd1947",
   "metadata": {},
   "outputs": [],
   "source": [
    "### imports\n",
    "import pandas as pd\n",
    "import numpy as np\n",
    "import os\n"
   ]
  },
  {
   "cell_type": "code",
   "execution_count": null,
   "id": "c9e30ff3",
   "metadata": {},
   "outputs": [],
   "source": [
    "### parameters\n",
    "# number of samples\n",
    "samples = [50,100,250,500,1000]\n",
    "try:\n",
    "    os.mkdir('./csl_data_normalized')\n",
    "except:\n",
    "    pass"
   ]
  },
  {
   "cell_type": "code",
   "execution_count": null,
   "id": "983e857c",
   "metadata": {},
   "outputs": [],
   "source": [
    "### function\n",
    "def normal_transform(x,dis):\n",
    "    if np.unique(x, axis=0).shape[0] > dis:\n",
    "        x_min = np.min(x, axis=0)\n",
    "        x_max = np.max(x, axis=0)\n",
    "        return (x-x_min)/(x_max-x_min)\n",
    "    else:\n",
    "        return x\n"
   ]
  },
  {
   "cell_type": "code",
   "execution_count": null,
   "id": "a630cdfe",
   "metadata": {},
   "outputs": [],
   "source": [
    "### transformation\n",
    "directory = os.fsencode('./csl_data/')\n",
    "for file in os.listdir(directory):\n",
    "    filename = os.fsdecode(file)\n",
    "    if '.csv' in filename:\n",
    "        for sample in samples:\n",
    "            df = pd.read_csv('./csl_data/'+filename)\n",
    "            sdf = df.head(sample)\n",
    "            for col in sdf:\n",
    "                sdf[col] = normal_transform(sdf[col],10)\n",
    "            sdf.to_csv('csl_data_normalized/'+filename[:-4]+'_'+str(sample)+'.csv',index=False)\n",
    "        "
   ]
  }
 ],
 "metadata": {
  "kernelspec": {
   "display_name": "Python 3 (ipykernel)",
   "language": "python",
   "name": "python3"
  },
  "language_info": {
   "codemirror_mode": {
    "name": "ipython",
    "version": 3
   },
   "file_extension": ".py",
   "mimetype": "text/x-python",
   "name": "python",
   "nbconvert_exporter": "python",
   "pygments_lexer": "ipython3",
   "version": "3.9.16"
  }
 },
 "nbformat": 4,
 "nbformat_minor": 5
}
